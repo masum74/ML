{
 "cells": [
  {
   "cell_type": "markdown",
   "metadata": {},
   "source": [
    "# Comparison of Multivariate Linear Regression Models\n",
    "**Md Fazlay Rabbi Masum Billah (masum@virginia.edu)**"
   ]
  },
  {
   "cell_type": "markdown",
   "metadata": {},
   "source": [
    "***\n",
    "## 1. BIG PICTURE\n",
    "In this problem, I am using the US census data for tracts and counties. Here, I am trying to investigate the average income of the residents of a county. There are number of factors that might effect the per capita income of a county. Such as total population in the county, number of private and public jobs, population ratio between different races and so on.\n",
    "This dataset can be downloaded from here- https://www.kaggle.com/muonneutrino/us-census-demographic-data#acs2015_census_tract_data.csv"
   ]
  },
  {
   "cell_type": "code",
   "execution_count": 1,
   "metadata": {},
   "outputs": [
    {
     "name": "stdout",
     "output_type": "stream",
     "text": [
      "\n",
      "Total size of data =  20.8896  MB\n",
      "Number of entries =  74001\n",
      "Number of features =  37\n"
     ]
    }
   ],
   "source": [
    "import pandas as pd\n",
    "import os\n",
    "import numpy as np\n",
    "import matplotlib\n",
    "import matplotlib.pyplot as plt\n",
    "\n",
    "dataset_url = \"https://www.kaggle.com/muonneutrino/us-census-demographic-data#acs2015_census_tract_data.csv\"\n",
    "\n",
    "np.random.seed(42)\n",
    "\n",
    "def load_result_data(file_path = './'):\n",
    "    csv_path = os.path.join(file_path, \"acs2015_census_tract_data.csv\")\n",
    "    return pd.read_csv(csv_path)\n",
    "\n",
    "result = load_result_data()\n",
    "\n",
    "fileSize = result.memory_usage(index = True).sum()/(1024*1024)\n",
    "numberOfEntries = len(result)\n",
    "numberOfFeatures = len(result.columns)\n",
    "basicStat = result.describe()\n",
    "\n",
    "print(\"\\nTotal size of data = \", \"{:.4f}\".format(fileSize), \" MB\") \n",
    "print(\"Number of entries = \", numberOfEntries)\n",
    "print(\"Number of features = \", numberOfFeatures)\n"
   ]
  },
  {
   "cell_type": "markdown",
   "metadata": {},
   "source": [
    "---\n",
    "## 2. DATA DISCOVERY, CLEANING, AND SCALING"
   ]
  },
  {
   "cell_type": "markdown",
   "metadata": {},
   "source": [
    "**Data Discover:** "
   ]
  },
  {
   "cell_type": "code",
   "execution_count": 21,
   "metadata": {
    "scrolled": true
   },
   "outputs": [
    {
     "data": {
      "text/plain": [
       "Income             1.000000\n",
       "IncomePerCap       0.834342\n",
       "Professional       0.731697\n",
       "IncomeErr          0.614119\n",
       "IncomePerCapErr    0.495473\n",
       "WorkAtHome         0.370850\n",
       "Employed           0.318049\n",
       "White              0.314051\n",
       "Asian              0.281797\n",
       "MeanCommute        0.230141\n",
       "Citizen            0.204361\n",
       "Men                0.176727\n",
       "TotalPop           0.174527\n",
       "Women              0.166638\n",
       "SelfEmployed       0.089692\n",
       "Drive              0.086121\n",
       "Pacific            0.007893\n",
       "FamilyWork         0.004560\n",
       "PublicWork        -0.008063\n",
       "Transit           -0.009502\n",
       "PrivateWork       -0.035394\n",
       "CensusTract       -0.068009\n",
       "Office            -0.068258\n",
       "Native            -0.071805\n",
       "OtherTransp       -0.105491\n",
       "Walk              -0.148499\n",
       "Hispanic          -0.227380\n",
       "Carpool           -0.285227\n",
       "Black             -0.310067\n",
       "Construction      -0.330709\n",
       "Unemployment      -0.483252\n",
       "Production        -0.497461\n",
       "Service           -0.586825\n",
       "ChildPoverty      -0.663684\n",
       "Poverty           -0.702208\n",
       "Name: Income, dtype: float64"
      ]
     },
     "execution_count": 21,
     "metadata": {},
     "output_type": "execute_result"
    }
   ],
   "source": [
    "corr_matrix = result.corr()\n",
    "corr_matrix[\"Income\"].sort_values(ascending = False)"
   ]
  },
  {
   "cell_type": "markdown",
   "metadata": {},
   "source": [
    "**Dropping some features based on correlation:**"
   ]
  },
  {
   "cell_type": "code",
   "execution_count": 23,
   "metadata": {},
   "outputs": [],
   "source": [
    "result = result.drop([\"State\",\"County\",\"CensusTract\", \"IncomePerCap\", \"Professional\", \"Poverty\", \"ChildPoverty\"], axis =1)"
   ]
  },
  {
   "cell_type": "markdown",
   "metadata": {},
   "source": [
    "**Data Cleaning:**"
   ]
  },
  {
   "cell_type": "code",
   "execution_count": 24,
   "metadata": {},
   "outputs": [],
   "source": [
    "from sklearn.preprocessing import Imputer\n",
    "from sklearn.preprocessing import StandardScaler\n",
    "from sklearn.pipeline import Pipeline\n",
    "from sklearn.model_selection import train_test_split\n",
    "\n",
    "imputer = Imputer(strategy=\"median\")\n",
    "imputer.fit(result)\n",
    "X = imputer.transform(result)\n",
    "result_transformed = pd.DataFrame(X, columns=result.columns,index = list(result.index.values))"
   ]
  },
  {
   "cell_type": "markdown",
   "metadata": {},
   "source": [
    "**Feature Scaling:**"
   ]
  },
  {
   "cell_type": "code",
   "execution_count": 25,
   "metadata": {},
   "outputs": [
    {
     "data": {
      "text/plain": [
       "StandardScaler(copy=True, with_mean=True, with_std=True)"
      ]
     },
     "execution_count": 25,
     "metadata": {},
     "output_type": "execute_result"
    }
   ],
   "source": [
    "scaler = StandardScaler()\n",
    "scaler.fit(result_transformed)"
   ]
  },
  {
   "cell_type": "markdown",
   "metadata": {},
   "source": [
    "**Dividing Training and Testing Set:**"
   ]
  },
  {
   "cell_type": "code",
   "execution_count": 26,
   "metadata": {},
   "outputs": [],
   "source": [
    "train_set, test_set = train_test_split(result_transformed, test_size=0.2, random_state=42)\n",
    "\n",
    "X_train = train_set.drop(\"Income\",axis=1)\n",
    "Y_train = train_set[\"Income\"]\n",
    "\n",
    "X_test = test_set.drop(\"Income\",axis=1)\n",
    "Y_test = test_set[\"Income\"]"
   ]
  },
  {
   "cell_type": "markdown",
   "metadata": {},
   "source": [
    "## 3. IMPLEMENTATION OF GRADIENT DESCENT"
   ]
  },
  {
   "cell_type": "markdown",
   "metadata": {},
   "source": [
    "I have implemented mini-batch gradient descent here. Since the dataset is large batch gradient descent results in out of memory error.   "
   ]
  },
  {
   "cell_type": "code",
   "execution_count": 27,
   "metadata": {},
   "outputs": [],
   "source": [
    "import numpy as np\n",
    "\n",
    "class MyLinearRegression:\n",
    "    def __init__ (self,m,n, learningRate):\n",
    "        \n",
    "        self.theta = np.random.randn(n,1); # parameter vector;\n",
    "        self.alpha = learningRate; #learning rate\n",
    "        self.cost  = []; # cost function\n",
    "        self.iteration = 100; #number of iteration\n",
    "        self.m = m; #number of rows\n",
    "        \n",
    "    def fitUsingGradientDescent(self, X_train, Y_train):\n",
    "        \n",
    "        for i in range (self.iteration):\n",
    "            self.gradientDescent(X_train, Y_train, self.theta, self.alpha, self.iteration)\n",
    "            \n",
    "    def gradientDescent(self, X_train, Y_train, theta, alpha, iters):        \n",
    "        \n",
    "        x_train = X_train.sample(frac=0.001) #taking 0.1% of the whole dataset for mini-batch\n",
    "        y_train = pd.DataFrame(Y_train, index = x_train.index.values) #taking corresponding y value\n",
    "        \n",
    "        loss = x_train.values.dot(theta) - y_train.values\n",
    "        gradient =pd.DataFrame((2/self.m)*(x_train.values).T.dot(loss))\n",
    "        self.theta = pd.DataFrame(self.theta - alpha*gradient.values)\n",
    "    \n",
    "        self.computeCostFunc(x_train, y_train,loss)\n",
    "    \n",
    "    def computeCostFunc(self, X_train, Y_train, loss):\n",
    "        \n",
    "        self.cost.append((sum(loss)**2)/(2*len(X_train.index)))\n",
    "        \n",
    "    def predict(self, X_test):\n",
    "        \n",
    "        y_predict = pd.DataFrame(X_test.values.dot(self.theta))\n",
    "        return y_predict\n",
    "    \n",
    "    \n",
    "    def fitUsingNormalEquation(self, X_train, Y_train):\n",
    "        \n",
    "        X_b = pd.DataFrame(np.c_[np.ones((len(X_train.index),1)),X_train.values])\n",
    "        self.theta = pd.DataFrame(np.linalg.inv(X_b.T.dot(X_b)).dot(X_b.T).dot(Y_train.values))\n"
   ]
  },
  {
   "cell_type": "markdown",
   "metadata": {},
   "source": [
    "**Learning Rate:**"
   ]
  },
  {
   "cell_type": "code",
   "execution_count": 28,
   "metadata": {},
   "outputs": [
    {
     "data": {
      "image/png": "[encoded data removed]",
      "text/plain": [
       "<Figure size 432x288 with 1 Axes>"
      ]
     },
     "metadata": {},
     "output_type": "display_data"
    },
    {
     "data": {
      "image/png": "[encoded data removed]",
      "text/plain": [
       "<Figure size 432x288 with 1 Axes>"
      ]
     },
     "metadata": {},
     "output_type": "display_data"
    },
    {
     "data": {
      "image/png": "[encoded data removed]",
      "text/plain": [
       "<Figure size 432x288 with 1 Axes>"
      ]
     },
     "metadata": {},
     "output_type": "display_data"
    },
    {
     "data": {
      "image/png": "[encoded data removed]",
      "text/plain": [
       "<Figure size 432x288 with 1 Axes>"
      ]
     },
     "metadata": {},
     "output_type": "display_data"
    }
   ],
   "source": [
    "learningRates =[0.00001,0.000001,0.0000001,0.00000001]\n",
    "\n",
    "for i in range (len(learningRates)):\n",
    "    \n",
    "    myGradientDescentModel = MyLinearRegression(len(X_train.index), len(X_train.columns),learningRates[i])\n",
    "    myGradientDescentModel.fitUsingGradientDescent(X_train, Y_train)    \n",
    "\n",
    "    Y_predict = myGradientDescentModel.predict(X_test)\n",
    "    #print(Y_predict)\n",
    "\n",
    "\n",
    "    import matplotlib.pyplot as plt\n",
    "    import numpy as np\n",
    "\n",
    "    x = myGradientDescentModel.iteration\n",
    "    y = myGradientDescentModel.cost\n",
    "\n",
    "    df=pd.DataFrame({'xvalues': range(0,myGradientDescentModel.iteration), 'yvalues': y })\n",
    "\n",
    "    plt.xlabel('Iterations')  \n",
    "    plt.ylabel('Cost')  \n",
    "    plt.title('Learning Rate: '+ str(learningRates[i]))\n",
    "    \n",
    "    plt.plot( 'xvalues', 'yvalues', data=df)\n",
    "    plt.show()"
   ]
  },
  {
   "cell_type": "markdown",
   "metadata": {},
   "source": [
    "From the Error vs. training figures above, it is clear that mini-batch gradient descent for this dataset would work better for learning rate = 0.000001"
   ]
  },
  {
   "cell_type": "markdown",
   "metadata": {},
   "source": [
    "- - -\n",
    "## 4. IMPLEMENTATION OF THE NORMAL EQUATION"
   ]
  },
  {
   "cell_type": "code",
   "execution_count": 29,
   "metadata": {},
   "outputs": [],
   "source": [
    "myNormalEquationModel = MyLinearRegression(len(X_train.index), len(X_train.columns)+1,0)\n",
    "myNormalEquationModel.fitUsingNormalEquation(X_train,Y_train)\n",
    "X_test_b = pd.DataFrame(np.c_[np.ones((len(X_test.index),1)),X_test.values])\n",
    "Y_predict_normal = myNormalEquationModel.predict(X_test_b)"
   ]
  },
  {
   "cell_type": "markdown",
   "metadata": {},
   "source": [
    "- - -\n",
    "## 5. COMPARISON OF DIFFERENT IMPLEMENTATIONS"
   ]
  },
  {
   "cell_type": "code",
   "execution_count": 30,
   "metadata": {},
   "outputs": [
    {
     "name": "stdout",
     "output_type": "stream",
     "text": [
      "Built-in Stochastic Gradient Descent Model RMSE: 9062268783994234.0\n",
      "My Minibatch Gradient Descent Model RMSE: 21721.395842935224\n",
      "My Normal Equation Model RMSE: 36256.6025508617\n"
     ]
    }
   ],
   "source": [
    "from sklearn.metrics import mean_squared_error\n",
    "\n",
    "# Use the built-in SGD Regressor model\n",
    "from sklearn.linear_model import SGDRegressor\n",
    "mySGDModel = SGDRegressor(max_iter=100)\n",
    "mySGDModel.fit(X_train,Y_train)\n",
    "y_predict = mySGDModel.predict(X_test)\n",
    "SGD_mse = mean_squared_error(Y_test, y_predict)\n",
    "mySGDModel_rmse = np.sqrt(SGD_mse)\n",
    "print(\"Built-in Stochastic Gradient Descent Model RMSE: \"+str(mySGDModel_rmse))\n",
    "\n",
    "#Use My Minibatch Gradient Descent Model\n",
    "myGradientDescentModel = MyLinearRegression(len(X_train.index), len(X_train.columns),0.000001)\n",
    "myGradientDescentModel.fitUsingGradientDescent(X_train, Y_train)    \n",
    "Y_predict_MBGD = myGradientDescentModel.predict(X_test)\n",
    "MBGD_mse = mean_squared_error(Y_test, Y_predict_MBGD)\n",
    "myMBGD_rmse = np.sqrt(MBGD_mse)\n",
    "print(\"My Minibatch Gradient Descent Model RMSE: \"+str(myMBGD_rmse))\n",
    "\n",
    "#Use My Normal Equation Model\n",
    "myNormalEquationModel = MyLinearRegression(len(X_train.index), len(X_train.columns)+1,0)\n",
    "myNormalEquationModel.fitUsingNormalEquation(X_train,Y_train)\n",
    "X_test_b = pd.DataFrame(np.c_[np.ones((len(X_test.index),1)),X_test.values])\n",
    "Y_predict_NEM = myNormalEquationModel.predict(X_test_b)\n",
    "NEM_mse = mean_squared_error(Y_test, Y_predict_NEM)\n",
    "myNEM_rmse = np.sqrt(NEM_mse)\n",
    "print(\"My Normal Equation Model RMSE: \"+str(myNEM_rmse))"
   ]
  },
  {
   "cell_type": "markdown",
   "metadata": {},
   "source": [
    "## 6. PRESENTATION OF MY SOLUTION"
   ]
  },
  {
   "cell_type": "markdown",
   "metadata": {},
   "source": [
    "* In this problem I have implemented two different models to predict the per capita income of a USA county. One is Mini-batch Gradient Descent model and another is Normal Equation Model.\n",
    "* While implementing the models I have observed few things-\n",
    "    * Batch Gradient Descent is too slow when the dataset is too large. As such I have to use Mini-batch Gradient Descent\n",
    "    * I had to drop few features looking at the correlation value with the feature *income*. For example, feature *poverty* and feature *profession* is too much relared with the feature *income*. That's why I dropped these feature.\n",
    "    * Had to perform data cleaning. For example, in this dataset although feature *CensusTract* is a numerical value it is only the id. Including this feature in training would end up in wrong prediction. Again, some features such as *county name* doesn't have any effect in per capita income. As such I had to drop it.\n",
    "    * There were few empty cells. I had to take care of those missing values\n",
    "* This solution can be improved if we had some more features such as types of jobs a county offers, age of people etc. Since these features have significant effect on per capita income."
   ]
  }
 ],
 "metadata": {
  "kernelspec": {
   "display_name": "Python 3",
   "language": "python",
   "name": "python3"
  },
  "language_info": {
   "codemirror_mode": {
    "name": "ipython",
    "version": 3
   },
   "file_extension": ".py",
   "mimetype": "text/x-python",
   "name": "python",
   "nbconvert_exporter": "python",
   "pygments_lexer": "ipython3",
   "version": "3.6.6"
  }
 },
 "nbformat": 4,
 "nbformat_minor": 2
}
